{
 "cells": [
  {
   "cell_type": "code",
   "execution_count": 2,
   "id": "4bd74e41-a482-4f69-b364-4e8652515d6f",
   "metadata": {},
   "outputs": [],
   "source": [
    "import networkx as nx\n",
    "from matplotlib import pyplot as plt\n",
    "from pyvis.network import Network"
   ]
  },
  {
   "cell_type": "code",
   "execution_count": 40,
   "id": "dbbcff1d-aa7a-48b2-a05a-82dea761d1e6",
   "metadata": {},
   "outputs": [
    {
     "name": "stdout",
     "output_type": "stream",
     "text": [
      "Warning: When  cdn_resources is 'local' jupyter notebook has issues displaying graphics on chrome/safari. Use cdn_resources='in_line' or cdn_resources='remote' if you have issues viewing graphics in a notebook.\n",
      "knowledge.html\n"
     ]
    },
    {
     "data": {
      "text/html": [
       "\n",
       "        <iframe\n",
       "            width=\"100%\"\n",
       "            height=\"600px\"\n",
       "            src=\"knowledge.html\"\n",
       "            frameborder=\"0\"\n",
       "            allowfullscreen\n",
       "            \n",
       "        ></iframe>\n",
       "        "
      ],
      "text/plain": [
       "<IPython.lib.display.IFrame at 0x2081641d640>"
      ]
     },
     "execution_count": 40,
     "metadata": {},
     "output_type": "execute_result"
    }
   ],
   "source": [
    "# create a knowledge graph\n",
    "graph = Network(bgcolor=\"#222222\", font_color=\"white\", notebook=True, select_menu=False)\n",
    "\n",
    "# add nodes and edges \n",
    "parent_nodes = ['Archery', 'BaseballPitch', 'Basketball', 'Billiards', 'Bowling',\n",
    " 'CricketBowling', 'CricketShot', 'HammerThrow', 'VolleyballSpiking']\n",
    "object_nodes = ['Bow', 'Arrow', 'Baseball', 'Baseball bat', 'Basket ball', 'Pool ball', 'Bowling ball', 'Cricket ball', 'Cricket bat', 'Hammer Throw', 'Volleyball']\n",
    "action_nodes = ['Swing']\n",
    "part_nodes = ['Right Hand']\n",
    "edges = [('Archery', 'Bow'), ('Archery', 'Arrow'), ('BaseballPitch', 'Baseball'), ('BaseballPitch', 'Baseball bat'), ('Basketball', 'Basket ball'), ('Billiards', 'Pool ball'),\n",
    " ('Bowling', 'Bowling ball'), ('CricketBowling', 'Cricket ball'), ('CricketBowling', 'Cricket bat'), ('CricketShot', 'Cricket bat'), ('CricketShot', 'Cricket ball'), ('Cricket bat', 'Swing'),\n",
    " ('Swing', 'Right Hand'), ('Baseball bat', 'Swing')]\n",
    "node_sizes1 = []\n",
    "node_sizes2 = []\n",
    "node_sizes3 = []\n",
    "node_sizes4 = []\n",
    "\n",
    "c1 = []\n",
    "c2 = []\n",
    "c3 = []\n",
    "c4 = []\n",
    "\n",
    "for i in range(len(parent_nodes)):\n",
    "  node_sizes1.append(5000)\n",
    "  c1.append('orange')\n",
    "for j in range(len(object_nodes)):\n",
    "  node_sizes2.append(1000)\n",
    "  c2.append('green')\n",
    "for i in range(len(action_nodes)):\n",
    "  node_sizes3.append(500)\n",
    "  c3.append('red')\n",
    "for i in range(len(part_nodes)):\n",
    "  node_sizes4.append(500)\n",
    "  c4.append('blue')\n",
    "# len(node_sizes)\n",
    "\n",
    "# for node in parent_nodes:\n",
    "graph.add_nodes(parent_nodes,value=node_sizes1,label=parent_nodes,color=c1)\n",
    "\n",
    "# for node in object_nodes:\n",
    "graph.add_nodes(object_nodes,label=object_nodes,value=node_sizes2, color=c2)\n",
    "\n",
    "# for node in action_nodes:\n",
    "graph.add_nodes(action_nodes,label=action_nodes, value=node_sizes3, color=c3)\n",
    "\n",
    "# for node in part_nodes:\n",
    "graph.add_nodes(part_nodes,label=part_nodes, value=node_sizes4, color=c4)\n",
    "\n",
    "# for edge in edges:\n",
    "graph.add_edges(edges,)\n",
    "\n",
    "graph.toggle_physics(True)\n",
    "graph.show_buttons(filter_=['physics'])\n",
    "graph.show('knowledge.html')"
   ]
  }
 ],
 "metadata": {
  "kernelspec": {
   "display_name": "Python 3 (ipykernel)",
   "language": "python",
   "name": "python3"
  },
  "language_info": {
   "codemirror_mode": {
    "name": "ipython",
    "version": 3
   },
   "file_extension": ".py",
   "mimetype": "text/x-python",
   "name": "python",
   "nbconvert_exporter": "python",
   "pygments_lexer": "ipython3",
   "version": "3.9.18"
  }
 },
 "nbformat": 4,
 "nbformat_minor": 5
}
